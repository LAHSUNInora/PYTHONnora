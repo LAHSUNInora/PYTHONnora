{
  "nbformat": 4,
  "nbformat_minor": 0,
  "metadata": {
    "colab": {
      "provenance": []
    },
    "kernelspec": {
      "name": "python3",
      "display_name": "Python 3"
    },
    "language_info": {
      "name": "python"
    }
  },
  "cells": [
    {
      "cell_type": "markdown",
      "source": [
        "# **Exercice** **1:**"
      ],
      "metadata": {
        "id": "E1UIMzFvBEN5"
      }
    },
    {
      "cell_type": "code",
      "execution_count": 17,
      "metadata": {
        "colab": {
          "base_uri": "https://localhost:8080/"
        },
        "id": "e51-i5MkYmrP",
        "outputId": "46ecdcb2-d086-49f1-adc9-4791d089893f"
      },
      "outputs": [
        {
          "output_type": "stream",
          "name": "stdout",
          "text": [
            "Surface du cercle : 113.10\n",
            "Surface du rectangle : 42.00\n"
          ]
        }
      ],
      "source": [
        "from abc import ABC, abstractmethod\n",
        "import math\n",
        "\n",
        "# Classe abstraite Forme\n",
        "class Forme(ABC):\n",
        "    @abstractmethod\n",
        "    def calculer_surface(self):\n",
        "        pass\n",
        "\n",
        "# Classe Cercle\n",
        "class Cercle(Forme):\n",
        "    def __init__(self, rayon):\n",
        "        self.rayon = rayon\n",
        "\n",
        "    def calculer_surface(self):\n",
        "        return math.pi * (self.rayon ** 2)  # Retour de la surface\n",
        "\n",
        "# Classe Rectangle\n",
        "class Rectangle(Forme):\n",
        "    def __init__(self, largeur, longueur):\n",
        "        self.longueur = longueur\n",
        "        self.largeur = largeur\n",
        "\n",
        "    def calculer_surface(self):\n",
        "        return self.largeur * self.longueur  # Retour de la surface\n",
        "\n",
        "# Création des objets\n",
        "cercle1 = Cercle(6)\n",
        "rectangle1 = Rectangle(6, 7)\n",
        "\n",
        "# Impression des résultats\n",
        "print(f\"Surface du cercle : {cercle1.calculer_surface():.2f}\")\n",
        "print(f\"Surface du rectangle : {rectangle1.calculer_surface():.2f}\")\n"
      ]
    },
    {
      "cell_type": "markdown",
      "source": [
        "# **Exercice 2:**"
      ],
      "metadata": {
        "id": "va-Amu3XBTbT"
      }
    },
    {
      "cell_type": "code",
      "source": [
        "class Personne:\n",
        "    # Constructeur pour initialiser les attributs\n",
        "    def __init__(self, nom, prenom, age):  # Corrigé : __init__\n",
        "        self._nom = nom\n",
        "        self._prenom = prenom\n",
        "        self._age = age\n",
        "\n",
        "    # Getter et Setter pour _nom\n",
        "    def getNom(self):\n",
        "        return self._nom\n",
        "\n",
        "    def setNom(self, nom):\n",
        "        self._nom = nom\n",
        "\n",
        "    # Getter et Setter pour _prenom\n",
        "    def getPrenom(self):\n",
        "        return self._prenom\n",
        "\n",
        "    def setPrenom(self, prenom):\n",
        "        self._prenom = prenom\n",
        "\n",
        "    # Getter et Setter pour _age\n",
        "    def getAge(self):\n",
        "        return self._age\n",
        "\n",
        "    def setAge(self, age):\n",
        "        self._age = age\n",
        "\n",
        "    # Méthode pour afficher les informations de la personne\n",
        "    def afficher(self):\n",
        "        return f\"Votre nom est {self._nom} {self._prenom}, votre âge est {self._age} ans.\"\n",
        "\n",
        "# Création d'une instance de la classe Personne\n",
        "etud = Personne(\"Elrhazzaoui\", \"Nouhaila\", 21)\n",
        "\n",
        "# Affichage des informations\n",
        "print(etud.afficher())\n"
      ],
      "metadata": {
        "colab": {
          "base_uri": "https://localhost:8080/"
        },
        "id": "brpsCoR8ZQ-i",
        "outputId": "fad69d03-ed83-4e90-a346-433c5690878e"
      },
      "execution_count": 16,
      "outputs": [
        {
          "output_type": "stream",
          "name": "stdout",
          "text": [
            "Votre nom est Elrhazzaoui Nouhaila, votre âge est 21 ans.\n"
          ]
        }
      ]
    },
    {
      "cell_type": "markdown",
      "source": [
        "# **Exercice 3:**"
      ],
      "metadata": {
        "id": "37aao3ahFIDc"
      }
    },
    {
      "cell_type": "code",
      "source": [
        "from abc import ABC, abstractmethod\n",
        "import math\n",
        "\n",
        "# Classe abstraite Forme\n",
        "class Forme(ABC):\n",
        "    @abstractmethod\n",
        "    def calculer_surface(self):\n",
        "        pass\n",
        "\n",
        "# Classe Cercle\n",
        "class Cercle(Forme):\n",
        "    def __init__(self, rayon):  # Correcteur : __init__\n",
        "        self.rayon = rayon\n",
        "\n",
        "    def calculer_surface(self):\n",
        "        return math.pi * (self.rayon ** 2)\n",
        "\n",
        "# Classe Rectangle\n",
        "class Rectangle(Forme):\n",
        "    def __init__(self, largeur, longueur):  # Correcteur : __init__\n",
        "        self.largeur = largeur\n",
        "        self.longueur = longueur\n",
        "\n",
        "    def calculer_surface(self):\n",
        "        return self.largeur * self.longueur\n",
        "\n",
        "# Fonction pour afficher les surfaces\n",
        "def afficher_surface(formes):\n",
        "    for forme in formes:\n",
        "        surface = forme.calculer_surface()\n",
        "        # Utilisation de type(forme).__name__ pour obtenir le nom de la classe\n",
        "        print(f\"Surface de {type(forme).__name__} : {surface:.2f}\")\n",
        "\n",
        "# Création d'objets\n",
        "cercle1 = Cercle(6)\n",
        "rectangle1 = Rectangle(6, 7)\n",
        "\n",
        "# Affichage des surfaces individuelles\n",
        "print(f\"Surface du cercle1 : {cercle1.calculer_surface():.2f}\")\n",
        "print(f\"Surface du rectangle1 : {rectangle1.calculer_surface():.2f}\")\n",
        "\n",
        "# Création d'autres formes\n",
        "cercle2 = Cercle(5)\n",
        "rectangle2 = Rectangle(4, 6)  # Largeur = 4, Longueur = 6\n",
        "\n",
        "# Liste des formes\n",
        "formes = [cercle2, rectangle2]\n",
        "\n",
        "# Affichage des surfaces via la fonction\n",
        "afficher_surface(formes)\n"
      ],
      "metadata": {
        "colab": {
          "base_uri": "https://localhost:8080/"
        },
        "id": "9Vys8Jz8ZTg7",
        "outputId": "1fdc8fd9-887f-4c2f-e223-583eed72ff46"
      },
      "execution_count": 15,
      "outputs": [
        {
          "output_type": "stream",
          "name": "stdout",
          "text": [
            "Surface du cercle1 : 113.10\n",
            "Surface du rectangle1 : 42.00\n",
            "Surface de Cercle : 78.54\n",
            "Surface de Rectangle : 24.00\n"
          ]
        }
      ]
    },
    {
      "cell_type": "code",
      "source": [],
      "metadata": {
        "id": "_0F6mEjmZTt5"
      },
      "execution_count": null,
      "outputs": []
    },
    {
      "cell_type": "markdown",
      "source": [
        "# **Exercice 4:**"
      ],
      "metadata": {
        "id": "uOI0x73RFP2m"
      }
    },
    {
      "cell_type": "code",
      "source": [
        "class Produit:\n",
        "    def __init__(self, nom, prix):\n",
        "        self.__nom = nom       # Attribut privé\n",
        "        self.__prix = prix     # Attribut privé\n",
        "\n",
        "    def get_nom(self):\n",
        "        return self.__nom\n",
        "\n",
        "    def set_nom(self, nom):\n",
        "        self.__nom = nom\n",
        "\n",
        "    def get_prix(self):\n",
        "        return self.__prix\n",
        "\n",
        "    def set_prix(self, prix):\n",
        "        self.__prix = prix\n",
        "\n",
        "    def calculer_prix_remise(self, remise):\n",
        "        \"\"\"Applique une remise si le prix est supérieur à 100.\"\"\"\n",
        "        if self.__prix > 100:\n",
        "            return self.__prix * (1 - remise / 100)\n",
        "        return self.__prix\n",
        "\n",
        "# Test de la classe Produit\n",
        "produit = Produit(\"Ordinateur\", 7000)\n",
        "print(f\"Prix avec remise : {produit.calculer_prix_remise(10):.2f} dh\")  # Remise de 10%\n"
      ],
      "metadata": {
        "colab": {
          "base_uri": "https://localhost:8080/"
        },
        "id": "hf_B2zhkgRQ0",
        "outputId": "6336f744-39ab-4707-87b0-1df5bfc5b59d"
      },
      "execution_count": 14,
      "outputs": [
        {
          "output_type": "stream",
          "name": "stdout",
          "text": [
            "Prix avec remise : 6300.00 dh\n"
          ]
        }
      ]
    },
    {
      "cell_type": "markdown",
      "source": [
        "# **Exercice 5:**"
      ],
      "metadata": {
        "id": "FV0JDm0jFUa7"
      }
    },
    {
      "cell_type": "code",
      "source": [
        "class Employe:\n",
        "    def __init__(self, nom, prenom, salaire):\n",
        "        self.nom = nom\n",
        "        self.prenom = prenom\n",
        "        self.salaire = salaire\n",
        "\n",
        "    def afficher(self):\n",
        "        return f\"Employé : {self.nom} {self.prenom}, Salaire : {self.salaire:.2f} dh\"\n",
        "\n",
        "class Manager(Employe):\n",
        "    def __init__(self, nom, prenom, salaire):\n",
        "        super().__init__(nom, prenom, salaire)\n",
        "        self.employes_supervises = []  # Liste des employés supervisés\n",
        "\n",
        "    def ajouter_employe(self, employe):\n",
        "        self.employes_supervises.append(employe)\n",
        "\n",
        "    def afficher_employes_supervises(self):\n",
        "        print(f\"Manager : {self.nom} {self.prenom}\")\n",
        "        for employe in self.employes_supervises:\n",
        "            print(f\" - {employe.afficher()}\")\n",
        "\n",
        "# Test des classes Employe et Manager\n",
        "employe1 = Employe(\"EL rhazzaoui\", \"nouhaila\", 2000)\n",
        "employe2 = Employe(\"barat\", \"imane\", 2200)\n",
        "manager = Manager(\"elhilal\", \"naoual\", 4000)\n",
        "manager.ajouter_employe(employe1)\n",
        "manager.ajouter_employe(employe2)\n",
        "manager.afficher_employes_supervises()\n"
      ],
      "metadata": {
        "colab": {
          "base_uri": "https://localhost:8080/"
        },
        "id": "UP-IZ-SUgRdd",
        "outputId": "424b3476-3d8e-4796-f19e-929bafbed208"
      },
      "execution_count": 13,
      "outputs": [
        {
          "output_type": "stream",
          "name": "stdout",
          "text": [
            "Manager : elhilal naoual\n",
            " - Employé : EL rhazzaoui nouhaila, Salaire : 2000.00 dh\n",
            " - Employé : barat imane, Salaire : 2200.00 dh\n"
          ]
        }
      ]
    },
    {
      "cell_type": "markdown",
      "source": [
        "# **Exercice 6:**"
      ],
      "metadata": {
        "id": "4nvvRQSEFY7Z"
      }
    },
    {
      "cell_type": "code",
      "source": [
        "class Produit:\n",
        "    \"\"\"\n",
        "    La classe Produit représente un produit avec un nom et un prix.\n",
        "    Utilisation des propriétés pour accéder aux attributs de manière contrôlée.\n",
        "    \"\"\"\n",
        "\n",
        "    def __init__(self, nom, prix):\n",
        "        \"\"\"\n",
        "        Constructeur pour initialiser un produit avec un nom et un prix.\n",
        "        \"\"\"\n",
        "        self._nom = nom  # L'attribut privé _nom\n",
        "        self._prix = prix  # L'attribut privé _prix\n",
        "\n",
        "    # Propriétés pour le nom du produit\n",
        "    @property\n",
        "    def nom(self):\n",
        "        return self._nom\n",
        "\n",
        "    @nom.setter\n",
        "    def nom(self, value):\n",
        "        if isinstance(value, str) and value != \"\":\n",
        "            self._nom = value\n",
        "        else:\n",
        "            raise ValueError(\"Le nom doit être une chaîne non vide.\")\n",
        "\n",
        "    # Propriétés pour le prix du produit\n",
        "    @property\n",
        "    def prix(self):\n",
        "        return self._prix\n",
        "\n",
        "    @prix.setter\n",
        "    def prix(self, value):\n",
        "        if isinstance(value, (int, float)) and value >= 0:\n",
        "            self._prix = value\n",
        "        else:\n",
        "            raise ValueError(\"Le prix doit être un nombre positif.\")\n",
        "\n",
        "    def afficher(self):\n",
        "        \"\"\"\n",
        "        Afficher les informations du produit (nom et prix).\n",
        "        \"\"\"\n",
        "        print(f\"Produit: {self.nom}, Prix: {self.prix:.2f} dh\")\n",
        "\n",
        "class Commande:\n",
        "    \"\"\"\n",
        "    La classe Commande représente une commande d'un produit avec une quantité.\n",
        "    Utilisation de propriétés pour accéder et manipuler le total de la commande.\n",
        "    \"\"\"\n",
        "\n",
        "    def __init__(self, produit, quantite):\n",
        "        \"\"\"\n",
        "        Constructeur pour initialiser une commande avec un produit et une quantité.\n",
        "        \"\"\"\n",
        "        self.produit = produit  # Une instance de la classe Produit\n",
        "        self.quantite = quantite  # Quantité du produit dans la commande\n",
        "\n",
        "    @property\n",
        "    def total(self):\n",
        "        \"\"\"\n",
        "        Calculer le total de la commande (prix du produit * quantité).\n",
        "        C'est une propriété pour obtenir directement le total sans appeler une méthode.\n",
        "        \"\"\"\n",
        "        return self.produit.prix * self.quantite\n",
        "\n",
        "    def afficher(self):\n",
        "        \"\"\"\n",
        "        Afficher les détails de la commande (produit, quantité, total).\n",
        "        \"\"\"\n",
        "        print(f\"Commande: {self.produit.nom}, Quantité: {self.quantite}, Total: {self.total:.2f} dh\")\n",
        "\n",
        "class Panier:\n",
        "    \"\"\"\n",
        "    La classe Panier représente un panier de commandes.\n",
        "    Utilisation de propriétés pour obtenir le total du panier.\n",
        "    \"\"\"\n",
        "\n",
        "    def __init__(self):\n",
        "        \"\"\"\n",
        "        Constructeur pour initialiser un panier vide.\n",
        "        \"\"\"\n",
        "        self.commandes = []  # Liste des commandes\n",
        "\n",
        "    def ajouter_commande(self, commande):\n",
        "        \"\"\"\n",
        "        Ajouter une commande au panier.\n",
        "        \"\"\"\n",
        "        self.commandes.append(commande)\n",
        "\n",
        "    @property\n",
        "    def total(self):\n",
        "        \"\"\"\n",
        "        Calculer le total du panier en additionnant les totaux de chaque commande.\n",
        "        C'est une propriété qui renvoie le total du panier.\n",
        "        \"\"\"\n",
        "        return sum(commande.total for commande in self.commandes)\n",
        "\n",
        "    def afficher(self):\n",
        "        \"\"\"\n",
        "        Afficher toutes les commandes dans le panier et le total du panier.\n",
        "        \"\"\"\n",
        "        print(\"Liste des commandes dans le panier :\")\n",
        "        for commande in self.commandes:\n",
        "            commande.afficher()\n",
        "        print(f\"Total du panier: {self.total:.2f} dh\")  # Affichage du total du panier\n",
        "\n",
        "# Créer des produits\n",
        "produit1 = Produit('telephone', 1000)\n",
        "produit2 = Produit('iphone', 2000)\n",
        "\n",
        "# Créer des commandes\n",
        "commande1 = Commande(produit1, 3)\n",
        "commande2 = Commande(produit2, 5)\n",
        "\n",
        "# Créer un panier et ajouter des commandes\n",
        "panier = Panier()\n",
        "panier.ajouter_commande(commande1)  # Ajouter la première commande\n",
        "panier.ajouter_commande(commande2)  # Ajouter la deuxième commande\n",
        "\n",
        "# Afficher les commandes et le total du panier\n",
        "panier.afficher()\n"
      ],
      "metadata": {
        "colab": {
          "base_uri": "https://localhost:8080/"
        },
        "id": "i7hcwWbOgR35",
        "outputId": "78e5a26b-8a56-4a55-9c67-cc1c701a77a6"
      },
      "execution_count": 9,
      "outputs": [
        {
          "output_type": "stream",
          "name": "stdout",
          "text": [
            "Liste des commandes dans le panier :\n",
            "Commande: telephone, Quantité: 3, Total: 3000.00 dh\n",
            "Commande: iphone, Quantité: 5, Total: 10000.00 dh\n",
            "Total du panier: 13000.00 dh\n"
          ]
        }
      ]
    },
    {
      "cell_type": "markdown",
      "source": [
        "# **Exercice 7:**"
      ],
      "metadata": {
        "id": "uwcFt4gLFhDu"
      }
    },
    {
      "cell_type": "code",
      "source": [
        "from abc import ABC, abstractmethod\n",
        "\n",
        "class Vehicule(ABC):\n",
        "    @abstractmethod\n",
        "    def deplacer(self):\n",
        "        pass\n",
        "\n",
        "class Voiture(Vehicule):\n",
        "    def deplacer(self):\n",
        "        return \"La voiture roule sur la route.\"\n",
        "\n",
        "class Bicyclette(Vehicule):\n",
        "    def deplacer(self):\n",
        "        return \"La bicyclette pédale sur la piste cyclable.\"\n",
        "\n",
        "# Test des classes Voiture et Bicyclette\n",
        "voiture = Voiture()\n",
        "bicyclette = Bicyclette()\n",
        "print(voiture.deplacer())\n",
        "print(bicyclette.deplacer())\n"
      ],
      "metadata": {
        "colab": {
          "base_uri": "https://localhost:8080/"
        },
        "id": "ROLToEAhZT31",
        "outputId": "838d17ef-f3fa-4531-ec71-f2c8fde13a21"
      },
      "execution_count": 10,
      "outputs": [
        {
          "output_type": "stream",
          "name": "stdout",
          "text": [
            "La voiture roule sur la route.\n",
            "La bicyclette pédale sur la piste cyclable.\n"
          ]
        }
      ]
    }
  ]
}